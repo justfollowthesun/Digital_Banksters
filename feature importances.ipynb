{
 "cells": [
  {
   "cell_type": "markdown",
   "id": "8acee673",
   "metadata": {
    "id": "approved-psychology"
   },
   "source": [
    "\n",
    "\n"
   ]
  },
  {
   "cell_type": "code",
   "execution_count": 1,
   "id": "45d19849",
   "metadata": {
    "id": "cooperative-spokesman"
   },
   "outputs": [],
   "source": [
    "import numpy as np\n",
    "import sklearn\n",
    "from sklearn.model_selection import train_test_split\n",
    "import pandas as pd\n",
    "import matplotlib.pyplot as plt\n",
    "from sklearn.model_selection import cross_val_score\n",
    "from sklearn.ensemble import RandomForestRegressor\n",
    "from sklearn.tree import DecisionTreeRegressor\n",
    "from sklearn.linear_model import LinearRegression, Ridge\n",
    "from sklearn.metrics import mean_squared_error\n",
    "from sklearn.discriminant_analysis import LinearDiscriminantAnalysis\n",
    "from sklearn.discriminant_analysis import QuadraticDiscriminantAnalysis\n",
    "from sklearn.naive_bayes import GaussianNB\n",
    "from sklearn.neural_network import MLPClassifier\n",
    "from sklearn.svm import SVC\n",
    "from sklearn.neighbors import KNeighborsClassifier\n",
    "from sklearn.ensemble import AdaBoostClassifier\n",
    "%matplotlib inline"
   ]
  },
  {
   "cell_type": "code",
   "execution_count": 2,
   "id": "f8f911ed",
   "metadata": {
    "id": "noted-bridal"
   },
   "outputs": [],
   "source": [
    "import warnings\n",
    "warnings.filterwarnings(\"ignore\")"
   ]
  },
  {
   "cell_type": "markdown",
   "id": "2ad6e35c",
   "metadata": {},
   "source": [
    "## Предварительная обработка данных"
   ]
  },
  {
   "cell_type": "code",
   "execution_count": 3,
   "id": "8c9fc389",
   "metadata": {
    "id": "nutritional-phoenix"
   },
   "outputs": [
    {
     "data": {
      "text/plain": [
       "['client_id',\n",
       " 'gender',\n",
       " 'birth_date',\n",
       " 'create_date',\n",
       " 'nonresident_flag',\n",
       " 'businessman_flag',\n",
       " 'city',\n",
       " 'term',\n",
       " 'contract_sum',\n",
       " 'product_category_name',\n",
       " 'card_id',\n",
       " 'card_type_name',\n",
       " 'start_date',\n",
       " 'fact_close_date',\n",
       " 'purchase_sum',\n",
       " 'purchase_count',\n",
       " 'current_balance_avg_sum',\n",
       " 'current_balance_sum',\n",
       " 'current_debit_turn_sum',\n",
       " 'current_credit_turn_sum',\n",
       " 'card_type']"
      ]
     },
     "execution_count": 3,
     "metadata": {},
     "output_type": "execute_result"
    }
   ],
   "source": [
    "input_file = \"Данные_по_транзакционной_активности_клиентов.csv\"\n",
    "\n",
    "df = pd.read_csv(input_file) \n",
    "original_headers = list(df.columns.values) #labels\n",
    "original_datas = df\n",
    "original_headers"
   ]
  },
  {
   "cell_type": "code",
   "execution_count": 4,
   "id": "2903e533",
   "metadata": {},
   "outputs": [
    {
     "data": {
      "text/plain": [
       "(371583, 21)"
      ]
     },
     "execution_count": 4,
     "metadata": {},
     "output_type": "execute_result"
    }
   ],
   "source": [
    "original_datas.shape"
   ]
  },
  {
   "cell_type": "markdown",
   "id": "5936239b",
   "metadata": {},
   "source": [
    "## Оценка feauture importance для типа кредитной карты"
   ]
  },
  {
   "cell_type": "code",
   "execution_count": 6,
   "id": "4e5c74c3",
   "metadata": {
    "id": "another-keyboard"
   },
   "outputs": [
    {
     "data": {
      "text/plain": [
       "array(['dc', 'dc', 'dc', ..., 'dc', 'dc', 'dc'], dtype=object)"
      ]
     },
     "execution_count": 6,
     "metadata": {},
     "output_type": "execute_result"
    }
   ],
   "source": [
    "original_datas = np.nan_to_num(original_datas) \n",
    " \n",
    "target_x = list(original_headers).index('card_type') \n",
    "target_y = original_datas.transpose()[target_x] \n",
    "target_y"
   ]
  },
  {
   "cell_type": "code",
   "execution_count": 7,
   "id": "309427f5",
   "metadata": {},
   "outputs": [],
   "source": [
    "for i in range(len(target_y)):\n",
    "    if target_y[i] == 'dc':\n",
    "        target_y[i] = 0.0\n",
    "    else:\n",
    "        target_y[i] = 1.0"
   ]
  },
  {
   "cell_type": "markdown",
   "id": "42ccbf3e",
   "metadata": {
    "id": "dress-shanghai"
   },
   "source": [
    "Разделение датасета на тренировочный и тестовый в пропорции 70:30"
   ]
  },
  {
   "cell_type": "code",
   "execution_count": 9,
   "id": "de26fb52",
   "metadata": {
    "id": "outdoor-runner"
   },
   "outputs": [],
   "source": [
    "df = df._get_numeric_data()\n",
    "original_datas = df.to_numpy()\n",
    "original_datas = np.nan_to_num(original_datas)\n",
    "\n",
    "X = original_datas\n",
    "y = target_y\n",
    "X_train, X_test, y_train, y_test = train_test_split(X, y, test_size=0.3, random_state=42)"
   ]
  },
  {
   "cell_type": "code",
   "execution_count": 14,
   "id": "114e2eb4",
   "metadata": {
    "colab": {
     "base_uri": "https://localhost:8080/",
     "height": 575
    },
    "id": "inclusive-outreach",
    "outputId": "6a70e6b1-b183-470a-a694-52e230c3da6b"
   },
   "outputs": [
    {
     "data": {
      "image/png": "[encoded data removed]",
      "text/plain": [
       "<Figure size 432x288 with 1 Axes>"
      ]
     },
     "metadata": {
      "needs_background": "light"
     },
     "output_type": "display_data"
    }
   ],
   "source": [
    "plt.hist(y, bins=3)\n",
    "plt.title(\"Классы датасета\")\n",
    "plt.xlabel('Тип карты')\n",
    "plt.ylabel('Количество записей')\n",
    "plt.legend(['0 -Дебетовая \\n 1 - Кредитная'])\n",
    "plt.show()"
   ]
  },
  {
   "cell_type": "markdown",
   "id": "3c12ade3",
   "metadata": {
    "id": "noticed-drunk"
   },
   "source": [
    "Количество признаков в тренировочном и тестовом датасете"
   ]
  },
  {
   "cell_type": "code",
   "execution_count": 15,
   "id": "95517357",
   "metadata": {
    "colab": {
     "base_uri": "https://localhost:8080/"
    },
    "id": "strategic-spending",
    "outputId": "60227791-3f62-4d31-cbcd-a5a8aada6763"
   },
   "outputs": [
    {
     "name": "stdout",
     "output_type": "stream",
     "text": [
      "260108\n",
      "111475\n"
     ]
    }
   ],
   "source": [
    "print(len(X_train))\n",
    "print(len(X_test))"
   ]
  },
  {
   "cell_type": "markdown",
   "id": "5ac45e82",
   "metadata": {
    "id": "endangered-mineral"
   },
   "source": [
    "Инициализация регрессионной ML-модели RandomForestRegressor"
   ]
  },
  {
   "cell_type": "code",
   "execution_count": 22,
   "id": "224e0995",
   "metadata": {
    "colab": {
     "base_uri": "https://localhost:8080/",
     "height": 282
    },
    "id": "residential-tongue",
    "outputId": "3ed70854-fddc-439f-eef5-542e3de192e2"
   },
   "outputs": [
    {
     "data": {
      "image/png": "[encoded data removed]",
      "text/plain": [
       "<Figure size 432x288 with 1 Axes>"
      ]
     },
     "metadata": {
      "needs_background": "light"
     },
     "output_type": "display_data"
    }
   ],
   "source": [
    "clf = RandomForestRegressor(random_state=0, n_jobs=-1)\n",
    "model = clf.fit(X_train, y_train)\n",
    "\n",
    "importances = model.feature_importances_\n",
    "indices = np.argsort(importances)[::-1]\n",
    "\n",
    "plt.bar(range(X.shape[1]), importances[indices])\n",
    "plt.title(\"Feature Importance\")\n",
    "plt.show()"
   ]
  },
  {
   "cell_type": "markdown",
   "id": "d6a4d9a8",
   "metadata": {},
   "source": [
    "Вывод наиболее важных признаков для обучения модели"
   ]
  },
  {
   "cell_type": "code",
   "execution_count": 18,
   "id": "85af897d",
   "metadata": {
    "colab": {
     "base_uri": "https://localhost:8080/"
    },
    "id": "amazing-marriage",
    "outputId": "53ab5987-aa41-43f6-816e-37580d1cff79"
   },
   "outputs": [
    {
     "name": "stdout",
     "output_type": "stream",
     "text": [
      "['nonresident_flag', 'card_type_name', 'client_id', 'city', 'contract_sum', 'card_id', 'businessman_flag', 'create_date', 'product_category_name', 'term', 'birth_date', 'gender']\n"
     ]
    }
   ],
   "source": [
    "names = [original_headers[i] for i in indices]\n",
    "print(names)"
   ]
  }
 ],
 "metadata": {
  "colab": {
   "name": "ML_HW_2.ipynb",
   "provenance": []
  },
  "kernelspec": {
   "display_name": "Python 3 (ipykernel)",
   "language": "python",
   "name": "python3"
  },
  "language_info": {
   "codemirror_mode": {
    "name": "ipython",
    "version": 3
   },
   "file_extension": ".py",
   "mimetype": "text/x-python",
   "name": "python",
   "nbconvert_exporter": "python",
   "pygments_lexer": "ipython3",
   "version": "3.9.7"
  }
 },
 "nbformat": 4,
 "nbformat_minor": 5
}
